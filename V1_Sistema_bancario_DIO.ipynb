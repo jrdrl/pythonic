{
  "nbformat": 4,
  "nbformat_minor": 0,
  "metadata": {
    "colab": {
      "provenance": [],
      "authorship_tag": "ABX9TyMcwI/KPuyFseKCWaQdDRjn",
      "include_colab_link": true
    },
    "kernelspec": {
      "name": "python3",
      "display_name": "Python 3"
    },
    "language_info": {
      "name": "python"
    }
  },
  "cells": [
    {
      "cell_type": "markdown",
      "metadata": {
        "id": "view-in-github",
        "colab_type": "text"
      },
      "source": [
        "<a href=\"https://colab.research.google.com/github/jrdrl/pythonic/blob/ProjetosPy/V1_Sistema_bancario_DIO.ipynb\" target=\"_parent\"><img src=\"https://colab.research.google.com/assets/colab-badge.svg\" alt=\"Open In Colab\"/></a>"
      ]
    },
    {
      "cell_type": "code",
      "execution_count": 19,
      "metadata": {
        "colab": {
          "base_uri": "https://localhost:8080/"
        },
        "id": "nT4B73tyCwuk",
        "outputId": "5b775add-ae54-4cc0-8830-cdc5e60541d4"
      },
      "outputs": [
        {
          "output_type": "stream",
          "name": "stdout",
          "text": [
            "\n",
            " ---------- EXTRATO ----------\n",
            "Saldo atual: R$ 0.00\n",
            "Nenhum depósito realizado.\n",
            "Nenhum saque realizado.\n",
            "Saldo atual: R$ 0.00\n",
            "\n",
            "Depósito de R$ 1500.00 realizado com sucesso.\n",
            "Saque de R$ 200.00 realizado com sucesso.\n",
            "Saque de R$ 300.00 realizado com sucesso.\n",
            "O valor máximo para saque é R$ 500.00.\n",
            "Saque de R$ 100.00 realizado com sucesso.\n",
            "\n",
            " ---------- EXTRATO ----------\n",
            "Saldo atual: R$ 900.00\n",
            "---------- DEPÓSITOS ----------\n",
            "Depósito: R$ 1500.00\n",
            "---------- SAQUES: ----------\n",
            "Saque: R$ 200.00\n",
            "Saque: R$ 300.00\n",
            "Saque: R$ 100.00\n",
            "Saldo atual: R$ 900.00\n",
            "\n"
          ]
        }
      ],
      "source": [
        "# Inicialização das variáveis\n",
        "depoimentos = []\n",
        "saques = []\n",
        "saldo = 0.0\n",
        "limite_saque = 500.00\n",
        "saques_diarios = 0\n",
        "limite_saques_diarios = 3\n",
        "\n",
        "def depositar(valor):\n",
        "    global saldo\n",
        "    if valor > 0:\n",
        "        saldo += valor\n",
        "        depoimentos.append(valor)\n",
        "        print(f\"Depósito de R$ {valor:.2f} realizado com sucesso.\")\n",
        "    else:\n",
        "        print(\"O valor do depósito deve ser positivo.\")\n",
        "\n",
        "def sacar(valor):\n",
        "    global saldo, saques_diarios\n",
        "    if saques_diarios >= limite_saques_diarios:\n",
        "        print(\"Número máximo de saques diários atingido.\")\n",
        "        return\n",
        "\n",
        "    if valor > limite_saque:\n",
        "        print(f\"O valor máximo para saque é R$ {limite_saque:.2f}.\")\n",
        "        return\n",
        "\n",
        "    if saldo >= valor:\n",
        "        saldo -= valor\n",
        "        saques.append(valor)\n",
        "        saques_diarios += 1\n",
        "        print(f\"Saque de R$ {valor:.2f} realizado com sucesso.\")\n",
        "    else:\n",
        "        print(\"Saldo insuficiente para realizar o saque.\")\n",
        "\n",
        "def extrato():\n",
        "    global saldo, depoimentos, saques\n",
        "    print('\\n','-'*10,\"Extrato\".upper(), '-'*10)\n",
        "    print(f\"Saldo atual: R$ {saldo:.2f}\")\n",
        "    if depoimentos:\n",
        "        print('-'*10,\"Depósitos\".upper(),'-'*10)\n",
        "        for valor in depoimentos:\n",
        "            print(f\"Depósito: R$ {valor:.2f}\")\n",
        "    else:\n",
        "        print(\"Nenhum depósito realizado.\")\n",
        "\n",
        "    if saques:\n",
        "        print('-'*10,\"Saques:\".upper(),'-'*10)\n",
        "        for valor in saques:\n",
        "            print(f\"Saque: R$ {valor:.2f}\")\n",
        "    else:\n",
        "        print(\"Nenhum saque realizado.\")\n",
        "\n",
        "    print(f\"Saldo atual: R$ {saldo:.2f}\\n\")\n",
        "\n",
        "# Exemplo de uso\n",
        "extrato()\n",
        "depositar(1500.00)\n",
        "sacar(200.00)\n",
        "sacar(300.00)\n",
        "sacar(600.00)\n",
        "sacar(100.00)\n",
        "extrato()"
      ]
    }
  ]
}