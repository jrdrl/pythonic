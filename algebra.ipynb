{
 "cells": [
  {
   "attachments": {},
   "cell_type": "markdown",
   "metadata": {},
   "source": [
    "## Algebra Linear"
   ]
  },
  {
   "attachments": {},
   "cell_type": "markdown",
   "metadata": {},
   "source": [
    "### Sistemas possiveis \n",
    "\n",
    "##### → Como vamos calcular a razão entre os determinantes, e o denominador sempre será o determinante D, para encontrar os valores para as incógnitas é necessário que D ≠ 0.\n",
    "##### → Caso o determinante D seja igual a 0, significa que ou o sistema é impossível, ou seja, não possui soluções, ou o sistema é possível indeterminando, ou seja, possui infinitas soluções.\n"
   ]
  },
  {
   "cell_type": "code",
   "execution_count": 2,
   "metadata": {},
   "outputs": [],
   "source": [
    "import numpy as np\n",
    "import streamlit as st"
   ]
  },
  {
   "cell_type": "code",
   "execution_count": 3,
   "metadata": {},
   "outputs": [],
   "source": [
    "def matriz(*args):\n",
    "        n_linhas = len(args)\n",
    "        n_colunas = len(args[0])\n",
    "        Matriz = [[0] * n_colunas for _ in range(n_linhas)]\n",
    "        \n",
    "        for i in range(n_linhas):\n",
    "            if len(args[i]) != n_colunas:\n",
    "                raise ValueError(\"As listas devem ter o mesmo tamanho\")\n",
    "\n",
    "            for j in range(n_colunas):\n",
    "                Matriz[i][j] = args[i][j]\n",
    "\n",
    "        return Matriz"
   ]
  },
  {
   "cell_type": "code",
   "execution_count": 4,
   "metadata": {},
   "outputs": [],
   "source": [
    "def calcular_determinante(matriz):\n",
    "    n_linhas = len(matriz)\n",
    "    n_colunas = len(matriz[0])\n",
    "    if n_linhas != n_colunas:\n",
    "        raise ValueError(\"A matriz deve ser quadrada.\")\n",
    "\n",
    "    if n_linhas == 1:\n",
    "        return matriz[0][0]\n",
    "\n",
    "    determinante = 0\n",
    "\n",
    "    for j in range(n_colunas):\n",
    "        cofator = matriz[0][j] * calcular_determinante(submatriz(matriz, 0, j))\n",
    "        determinante += (-1) ** j * cofator\n",
    "\n",
    "    return determinante\n",
    "\n",
    "def submatriz(matriz, i, j):\n",
    "    return [linha[:j] + linha[j+1:] for linha in (matriz[:i] + matriz[i+1:])]"
   ]
  },
  {
   "cell_type": "code",
   "execution_count": 5,
   "metadata": {},
   "outputs": [],
   "source": [
    "def det_cramer(matriz):\n",
    "    n_linhas = len(matriz)\n",
    "    n_colunas = len(matriz[0])\n",
    "    if n_linhas != n_colunas:\n",
    "        raise ValueError(\"A matriz deve ser quadrada.\")\n",
    "    \n",
    "    n = len(matriz)\n",
    "\n",
    "    if n == 1:\n",
    "        return matriz[0][0]  # Caso base: matriz 1x1\n",
    "\n",
    "    if n == 2:\n",
    "        return matriz[0][0] * matriz[1][1] - matriz[0][1] * matriz[1][0]  # Caso base: matriz 2x2\n",
    "\n",
    "    det = 0\n",
    "    sinal = 1\n",
    "\n",
    "    for j in range(n):\n",
    "        submatriz = []\n",
    "\n",
    "        for i in range(1, n):\n",
    "            linha = []\n",
    "\n",
    "            for k in range(n):\n",
    "                if k != j:\n",
    "                    linha.append(matriz[i][k])\n",
    "\n",
    "            submatriz.append(linha)\n",
    "\n",
    "        det += sinal * matriz[0][j] * calcular_determinante(submatriz)\n",
    "        sinal *= -1\n",
    "\n",
    "    return det\n"
   ]
  },
  {
   "cell_type": "code",
   "execution_count": 6,
   "metadata": {},
   "outputs": [],
   "source": [
    "def calcular_determinantes_cramer(matriz_coeficientes, vetor_termos_independentes):\n",
    "    n_linhas = len(matriz_coeficientes)\n",
    "    n_colunas = len(matriz_coeficientes[0])\n",
    "    \n",
    "    det_principal = det_cramer(matriz_coeficientes)\n",
    "\n",
    "    if n_linhas != n_colunas:\n",
    "        raise ValueError(\"A matriz deve ser quadrada.\")\n",
    "    elif det_principal == 0:\n",
    "        raise ValueError(\"O sistema não tem solução única\")\n",
    "    \n",
    "    determinantes = []\n",
    "\n",
    "    for i in range(n_linhas):\n",
    "        matriz_auxiliar = [list(linha) for linha in matriz_coeficientes]\n",
    "        for j in range(n_linhas):\n",
    "            matriz_auxiliar[j][i] = vetor_termos_independentes[j]\n",
    "        det_temp = det_cramer(matriz_auxiliar)\n",
    "        determinantes.append(det_temp / det_principal)\n",
    "\n",
    "    def exibir(det):\n",
    "        print(f'Determinante principal: {det_principal}')\n",
    "        letra = 'x'\n",
    "        if letra == '{':\n",
    "            letra = 'a'\n",
    "        for i in range(len(determinantes)):\n",
    "            letraP = chr(ord(letra) + i)\n",
    "            print(f\"D{letraP} = {det[i]:.2f}\", end=', ')\n",
    "        \n",
    "\n",
    "    return exibir(determinantes)"
   ]
  },
  {
   "cell_type": "code",
   "execution_count": 7,
   "metadata": {},
   "outputs": [
    {
     "name": "stdout",
     "output_type": "stream",
     "text": [
      "[[2, 3], [1, 2]] \n",
      " [[1, 1, -1], [0, 2, 1], [1, -1, 0]] \n",
      " [[1, 2, 4], [3, 6, -6], [4, 6, -2]]\n"
     ]
    }
   ],
   "source": [
    "# sistema linear \n",
    "# x + y - z = 1\n",
    "# 2y + z = 4\n",
    "# x - y = 1\n",
    "\n",
    "m = matriz([2,3], [1,2])\n",
    "\n",
    "m2 = matriz([1, 1, -1],\n",
    "            [0, 2, 1],\n",
    "            [1, -1, 0])\n",
    "\n",
    "m3 = matriz([1, 2, 4], [3, 6, -6], [4, 6, -2])\n",
    "\n",
    "print(m,'\\n',m2, '\\n', m3)"
   ]
  },
  {
   "cell_type": "code",
   "execution_count": 8,
   "metadata": {},
   "outputs": [
    {
     "name": "stdout",
     "output_type": "stream",
     "text": [
      "Determinante principal: 4\n",
      "Dx = 1.50, Dy = 0.50, Dz = 1.00, "
     ]
    }
   ],
   "source": [
    "calcular_determinantes_cramer(m2,[1,2,1])"
   ]
  },
  {
   "cell_type": "code",
   "execution_count": 9,
   "metadata": {},
   "outputs": [
    {
     "data": {
      "text/plain": [
       "4"
      ]
     },
     "execution_count": 9,
     "metadata": {},
     "output_type": "execute_result"
    }
   ],
   "source": [
    "calcular_determinante(m2)"
   ]
  },
  {
   "cell_type": "code",
   "execution_count": 10,
   "metadata": {},
   "outputs": [
    {
     "data": {
      "text/plain": [
       "4"
      ]
     },
     "execution_count": 10,
     "metadata": {},
     "output_type": "execute_result"
    }
   ],
   "source": [
    "det_cramer(m2)"
   ]
  },
  {
   "cell_type": "code",
   "execution_count": 11,
   "metadata": {},
   "outputs": [
    {
     "name": "stderr",
     "output_type": "stream",
     "text": [
      "2023-06-20 17:28:42.136 \n",
      "  \u001b[33m\u001b[1mWarning:\u001b[0m to view this Streamlit app on a browser, run it with the following\n",
      "  command:\n",
      "\n",
      "    streamlit run h:\\HomeWork\\Desktop\\StartOnVSCode\\venv\\Lib\\site-packages\\ipykernel_launcher.py [ARGUMENTS]\n"
     ]
    }
   ],
   "source": [
    "# API\n",
    "st.title('Cálculo de determinantes')\n",
    "st.write('Aqui você pode calcular o determinante de uma matriz quadrada de qualquer ordem')\n",
    "\n",
    "# Entrada de dados\n",
    "n = st.number_input('Digite a ordem da matriz', min_value=1, max_value=10, value=1, step=1)\n",
    "dados = []\n",
    "\n",
    "for i in range(n):\n",
    "    linha = []\n",
    "    for j in range(n):\n",
    "        elemento = st.number_input(f'Digite o elemento {i+1}x{j+1} da matriz')\n",
    "        linha.append(elemento)\n",
    "    dados.append(linha)\n",
    "\n",
    "matriz_formatada = matriz(*dados)\n"
   ]
  }
 ],
 "metadata": {
  "kernelspec": {
   "display_name": "env",
   "language": "python",
   "name": "python3"
  },
  "language_info": {
   "codemirror_mode": {
    "name": "ipython",
    "version": 3
   },
   "file_extension": ".py",
   "mimetype": "text/x-python",
   "name": "python",
   "nbconvert_exporter": "python",
   "pygments_lexer": "ipython3",
   "version": "3.11.4"
  },
  "orig_nbformat": 4
 },
 "nbformat": 4,
 "nbformat_minor": 2
}
